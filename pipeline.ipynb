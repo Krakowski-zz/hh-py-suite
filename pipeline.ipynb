{
 "cells": [
  {
   "cell_type": "code",
   "execution_count": null,
   "metadata": {},
   "outputs": [],
   "source": [
    "!cp ./inp_file.a3m ./tmp/inp_file.a3m"
   ]
  },
  {
   "cell_type": "code",
   "execution_count": null,
   "metadata": {},
   "outputs": [],
   "source": [
    "!hhconsensus -i ./tmp/inp_file.a3m -s ./tmp/inp_file.sq -o ./tmp/inp_file.a3m"
   ]
  },
  {
   "cell_type": "code",
   "execution_count": null,
   "metadata": {},
   "outputs": [],
   "source": [
    "!hhfilter -v 1 -neff 7 -i ./tmp/inp_file.a3m -o ./tmp/inp_file_filtered.a3m"
   ]
  },
  {
   "cell_type": "code",
   "execution_count": null,
   "metadata": {},
   "outputs": [],
   "source": [
    "!hh-suite/scripts/reformat.pl a3m fas ./tmp/inp_file_filtered.a3m ./tmp/inp_file_filtered.fasta"
   ]
  },
  {
   "cell_type": "code",
   "execution_count": null,
   "metadata": {},
   "outputs": [],
   "source": [
    "!cp ./tmp/inp_file.a3m ./tmp/inp_file_db"
   ]
  },
  {
   "cell_type": "code",
   "execution_count": null,
   "metadata": {},
   "outputs": [],
   "source": [
    "!blast-legacy/bin/formatdb -i ./tmp/inp_file_db"
   ]
  },
  {
   "cell_type": "code",
   "execution_count": null,
   "metadata": {},
   "outputs": [],
   "source": [
    "!psiblast -db ./tmp/inp_file_db -out_pssm ./tmp/inp_file.chk -in_msa ./tmp/inp_file_filtered.fasta -inclusion_ethresh 0.001 -num_descriptions 5000 -num_iterations 3 -num_alignments 0 -out ./tmp/inp_file.psiblast"
   ]
  },
  {
   "cell_type": "code",
   "execution_count": null,
   "metadata": {},
   "outputs": [],
   "source": [
    "!cp ./tmp/inp_file.chk ./tmp/inp_file.pn\n",
    "!cp ./tmp/inp_file.sq ./tmp/inp_file.sn"
   ]
  },
  {
   "cell_type": "code",
   "execution_count": null,
   "metadata": {},
   "outputs": [],
   "source": [
    "!chkparse ./tmp/inp_file.chk > ./tmp/inp_file.mtx"
   ]
  },
  {
   "cell_type": "code",
   "execution_count": null,
   "metadata": {},
   "outputs": [],
   "source": [
    "!psipred ./tmp/inp_file.mtx psipred_4.01/data/weights.dat psipred_4.01/data/weights.dat2 psipred_4.01/data/weights.dat3 > ./psipred_output.ss"
   ]
  },
  {
   "cell_type": "code",
   "execution_count": null,
   "metadata": {},
   "outputs": [],
   "source": [
    "!psipass2 psipred_4.01/data/weights_p2.dat 1 1.0 1.0 ./psipred_output.ss2 ./psipred_output.ss > ./psipred_output.horiz"
   ]
  }
 ],
 "metadata": {
  "interpreter": {
   "hash": "916dbcbb3f70747c44a77c7bcd40155683ae19c65e1c03b4aa3499c5328201f1"
  },
  "kernelspec": {
   "display_name": "Python 3.9.7 64-bit",
   "language": "python",
   "name": "python3"
  },
  "language_info": {
   "name": "python",
   "version": "3.9.7"
  },
  "orig_nbformat": 4
 },
 "nbformat": 4,
 "nbformat_minor": 2
}
